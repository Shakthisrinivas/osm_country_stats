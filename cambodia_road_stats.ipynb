{
 "cells": [
  {
   "cell_type": "markdown",
   "id": "e50917a0-60a4-4254-8107-7468e5f3e20f",
   "metadata": {
    "tags": []
   },
   "source": [
    "## Program to extract length of roads\n",
    "\n",
    "We can extract length of roads from Shapefile or GeoJSON by using Pandas and GeoPandas modules. You can download country specific OpenStreetMap data from GeoFabrik. The common data formats available are PBF and Shapefiles.\n",
    "\n",
    "By conventions, we import geopandas as gpd and pandas as pd"
   ]
  },
  {
   "cell_type": "code",
   "execution_count": 77,
   "id": "72bd3f0d-1995-4f3d-ae02-337c206ad9a7",
   "metadata": {},
   "outputs": [],
   "source": [
    "import geopandas as gpd\n",
    "import pandas as pd\n",
    "import os"
   ]
  },
  {
   "cell_type": "markdown",
   "id": "e300add7-1cb9-453a-a77b-b5e7797245f1",
   "metadata": {
    "tags": []
   },
   "source": [
    "#### Reading Spatial Data"
   ]
  },
  {
   "cell_type": "code",
   "execution_count": 78,
   "id": "edf89de8-8fb1-44f8-8814-9eff9e5b6be9",
   "metadata": {},
   "outputs": [],
   "source": [
    "data_directory = '/Users/shakthi/Downloads/cambodia'\n",
    "filename = 'cambodia_roads.shp'\n",
    "path = os.path.join(data_directory,filename)"
   ]
  },
  {
   "cell_type": "markdown",
   "id": "56ae91d6-c8cd-4e68-bc5e-d19c2efb773b",
   "metadata": {},
   "source": [
    "GeoPandas provide read_file() method that can read almost any vector-based spatial data format including ESRI shapefile, GeoJSON files. Here we will read osm_roads.shp . The results are stored in GeoDataFrames."
   ]
  },
  {
   "cell_type": "code",
   "execution_count": 79,
   "id": "515ade03-b1c5-4206-875b-768b746b6308",
   "metadata": {},
   "outputs": [],
   "source": [
    "roads_gdf = gpd.read_file(path)"
   ]
  },
  {
   "cell_type": "markdown",
   "id": "ecd52b8e-9a01-4af1-9f69-20c928bfb37e",
   "metadata": {},
   "source": [
    "\n",
    "Print GeoDataFrame information to check all columns"
   ]
  },
  {
   "cell_type": "code",
   "execution_count": 80,
   "id": "88094eae-43b2-4594-92cd-66bf060ab601",
   "metadata": {
    "tags": []
   },
   "outputs": [
    {
     "name": "stdout",
     "output_type": "stream",
     "text": [
      "<class 'geopandas.geodataframe.GeoDataFrame'>\n",
      "RangeIndex: 140224 entries, 0 to 140223\n",
      "Data columns (total 10 columns):\n",
      " #   Column      Non-Null Count   Dtype   \n",
      "---  ------      --------------   -----   \n",
      " 0   osm_id      140224 non-null  object  \n",
      " 1   name        4687 non-null    object  \n",
      " 2   highway     140224 non-null  object  \n",
      " 3   waterway    4 non-null       object  \n",
      " 4   aerialway   0 non-null       object  \n",
      " 5   barrier     0 non-null       object  \n",
      " 6   man_made    4 non-null       object  \n",
      " 7   z_order     140224 non-null  int64   \n",
      " 8   other_tags  24768 non-null   object  \n",
      " 9   geometry    140224 non-null  geometry\n",
      "dtypes: geometry(1), int64(1), object(8)\n",
      "memory usage: 10.7+ MB\n",
      "None\n"
     ]
    }
   ],
   "source": [
    "print(roads_gdf.info())"
   ]
  },
  {
   "cell_type": "markdown",
   "id": "fb379262-528b-4dfe-b559-e0954e7194d2",
   "metadata": {},
   "source": [
    "\n",
    "Concatenate road network GeoDataFrames using Pandas & concat() method"
   ]
  },
  {
   "cell_type": "code",
   "execution_count": 81,
   "id": "763dab70-065d-4650-8bf1-d146843799df",
   "metadata": {},
   "outputs": [],
   "source": [
    "gdf = gpd.GeoDataFrame(pd.concat([roads_gdf]))"
   ]
  },
  {
   "cell_type": "markdown",
   "id": "52beb038-db3b-46e6-84e2-c7bd2ce53b9e",
   "metadata": {},
   "source": [
    "Print first 5 rows of concatenated GeoDataFrame\n",
    "\n"
   ]
  },
  {
   "cell_type": "code",
   "execution_count": 82,
   "id": "15669cef-9721-4ea7-9785-360f1a515bbc",
   "metadata": {},
   "outputs": [
    {
     "data": {
      "text/html": [
       "<div>\n",
       "<style scoped>\n",
       "    .dataframe tbody tr th:only-of-type {\n",
       "        vertical-align: middle;\n",
       "    }\n",
       "\n",
       "    .dataframe tbody tr th {\n",
       "        vertical-align: top;\n",
       "    }\n",
       "\n",
       "    .dataframe thead th {\n",
       "        text-align: right;\n",
       "    }\n",
       "</style>\n",
       "<table border=\"1\" class=\"dataframe\">\n",
       "  <thead>\n",
       "    <tr style=\"text-align: right;\">\n",
       "      <th></th>\n",
       "      <th>osm_id</th>\n",
       "      <th>name</th>\n",
       "      <th>highway</th>\n",
       "      <th>waterway</th>\n",
       "      <th>aerialway</th>\n",
       "      <th>barrier</th>\n",
       "      <th>man_made</th>\n",
       "      <th>z_order</th>\n",
       "      <th>other_tags</th>\n",
       "      <th>geometry</th>\n",
       "    </tr>\n",
       "  </thead>\n",
       "  <tbody>\n",
       "    <tr>\n",
       "      <th>0</th>\n",
       "      <td>10416871</td>\n",
       "      <td>None</td>\n",
       "      <td>secondary</td>\n",
       "      <td>None</td>\n",
       "      <td>None</td>\n",
       "      <td>None</td>\n",
       "      <td>None</td>\n",
       "      <td>6</td>\n",
       "      <td>\"ref\"=&gt;\"955A\"</td>\n",
       "      <td>LINESTRING (104.69655 10.52430, 104.69712 10.5...</td>\n",
       "    </tr>\n",
       "    <tr>\n",
       "      <th>1</th>\n",
       "      <td>11165303</td>\n",
       "      <td>សៀគ្វីអស្ចារ្យ / សៀគ្វីតូច</td>\n",
       "      <td>pedestrian</td>\n",
       "      <td>None</td>\n",
       "      <td>None</td>\n",
       "      <td>None</td>\n",
       "      <td>None</td>\n",
       "      <td>0</td>\n",
       "      <td>\"bicycle\"=&gt;\"yes\",\"cycleway\"=&gt;\"lane\",\"name:de\"=...</td>\n",
       "      <td>LINESTRING (103.85964 13.41249, 103.85965 13.4...</td>\n",
       "    </tr>\n",
       "    <tr>\n",
       "      <th>2</th>\n",
       "      <td>11936959</td>\n",
       "      <td>None</td>\n",
       "      <td>unclassified</td>\n",
       "      <td>None</td>\n",
       "      <td>None</td>\n",
       "      <td>None</td>\n",
       "      <td>None</td>\n",
       "      <td>3</td>\n",
       "      <td>None</td>\n",
       "      <td>LINESTRING (105.90598 14.04349, 105.91302 14.0...</td>\n",
       "    </tr>\n",
       "    <tr>\n",
       "      <th>3</th>\n",
       "      <td>12209983</td>\n",
       "      <td>None</td>\n",
       "      <td>unclassified</td>\n",
       "      <td>None</td>\n",
       "      <td>None</td>\n",
       "      <td>None</td>\n",
       "      <td>None</td>\n",
       "      <td>3</td>\n",
       "      <td>None</td>\n",
       "      <td>LINESTRING (104.94721 10.52847, 104.92283 10.5...</td>\n",
       "    </tr>\n",
       "    <tr>\n",
       "      <th>4</th>\n",
       "      <td>12210037</td>\n",
       "      <td>None</td>\n",
       "      <td>unclassified</td>\n",
       "      <td>None</td>\n",
       "      <td>None</td>\n",
       "      <td>None</td>\n",
       "      <td>None</td>\n",
       "      <td>3</td>\n",
       "      <td>None</td>\n",
       "      <td>LINESTRING (104.92874 10.50023, 104.92850 10.5...</td>\n",
       "    </tr>\n",
       "  </tbody>\n",
       "</table>\n",
       "</div>"
      ],
      "text/plain": [
       "     osm_id                        name       highway waterway aerialway  \\\n",
       "0  10416871                        None     secondary     None      None   \n",
       "1  11165303  សៀគ្វីអស្ចារ្យ / សៀគ្វីតូច    pedestrian     None      None   \n",
       "2  11936959                        None  unclassified     None      None   \n",
       "3  12209983                        None  unclassified     None      None   \n",
       "4  12210037                        None  unclassified     None      None   \n",
       "\n",
       "  barrier man_made  z_order  \\\n",
       "0    None     None        6   \n",
       "1    None     None        0   \n",
       "2    None     None        3   \n",
       "3    None     None        3   \n",
       "4    None     None        3   \n",
       "\n",
       "                                          other_tags  \\\n",
       "0                                      \"ref\"=>\"955A\"   \n",
       "1  \"bicycle\"=>\"yes\",\"cycleway\"=>\"lane\",\"name:de\"=...   \n",
       "2                                               None   \n",
       "3                                               None   \n",
       "4                                               None   \n",
       "\n",
       "                                            geometry  \n",
       "0  LINESTRING (104.69655 10.52430, 104.69712 10.5...  \n",
       "1  LINESTRING (103.85964 13.41249, 103.85965 13.4...  \n",
       "2  LINESTRING (105.90598 14.04349, 105.91302 14.0...  \n",
       "3  LINESTRING (104.94721 10.52847, 104.92283 10.5...  \n",
       "4  LINESTRING (104.92874 10.50023, 104.92850 10.5...  "
      ]
     },
     "execution_count": 82,
     "metadata": {},
     "output_type": "execute_result"
    }
   ],
   "source": [
    "gdf.head(n=5)"
   ]
  },
  {
   "cell_type": "markdown",
   "id": "2697ce15-16b8-4c23-846c-bc7f44ff4ab6",
   "metadata": {},
   "source": [
    "Print last 5 rows of concatenated GeoDataFrame"
   ]
  },
  {
   "cell_type": "code",
   "execution_count": 83,
   "id": "24062a13-0dbc-451f-801f-d46a96f9273f",
   "metadata": {},
   "outputs": [
    {
     "data": {
      "text/html": [
       "<div>\n",
       "<style scoped>\n",
       "    .dataframe tbody tr th:only-of-type {\n",
       "        vertical-align: middle;\n",
       "    }\n",
       "\n",
       "    .dataframe tbody tr th {\n",
       "        vertical-align: top;\n",
       "    }\n",
       "\n",
       "    .dataframe thead th {\n",
       "        text-align: right;\n",
       "    }\n",
       "</style>\n",
       "<table border=\"1\" class=\"dataframe\">\n",
       "  <thead>\n",
       "    <tr style=\"text-align: right;\">\n",
       "      <th></th>\n",
       "      <th>osm_id</th>\n",
       "      <th>name</th>\n",
       "      <th>highway</th>\n",
       "      <th>waterway</th>\n",
       "      <th>aerialway</th>\n",
       "      <th>barrier</th>\n",
       "      <th>man_made</th>\n",
       "      <th>z_order</th>\n",
       "      <th>other_tags</th>\n",
       "      <th>geometry</th>\n",
       "    </tr>\n",
       "  </thead>\n",
       "  <tbody>\n",
       "    <tr>\n",
       "      <th>140219</th>\n",
       "      <td>988998049</td>\n",
       "      <td>ផ្លូវ ២៧១</td>\n",
       "      <td>primary_link</td>\n",
       "      <td>None</td>\n",
       "      <td>None</td>\n",
       "      <td>None</td>\n",
       "      <td>None</td>\n",
       "      <td>7</td>\n",
       "      <td>\"name:en\"=&gt;\"Street 271\",\"oneway\"=&gt;\"yes\"</td>\n",
       "      <td>LINESTRING (104.89847 11.54850, 104.89839 11.5...</td>\n",
       "    </tr>\n",
       "    <tr>\n",
       "      <th>140220</th>\n",
       "      <td>989197764</td>\n",
       "      <td>មហាវិថី សម្តេច មុនីរ៉េត (២១៧)</td>\n",
       "      <td>primary</td>\n",
       "      <td>None</td>\n",
       "      <td>None</td>\n",
       "      <td>None</td>\n",
       "      <td>None</td>\n",
       "      <td>7</td>\n",
       "      <td>\"name:en\"=&gt;\"Monireth Boulevard (Street 217)\",\"...</td>\n",
       "      <td>LINESTRING (104.89772 11.54738, 104.89797 11.5...</td>\n",
       "    </tr>\n",
       "    <tr>\n",
       "      <th>140221</th>\n",
       "      <td>989203751</td>\n",
       "      <td>None</td>\n",
       "      <td>residential</td>\n",
       "      <td>None</td>\n",
       "      <td>None</td>\n",
       "      <td>None</td>\n",
       "      <td>None</td>\n",
       "      <td>3</td>\n",
       "      <td>None</td>\n",
       "      <td>LINESTRING (104.87737 11.55803, 104.87741 11.5...</td>\n",
       "    </tr>\n",
       "    <tr>\n",
       "      <th>140222</th>\n",
       "      <td>989204501</td>\n",
       "      <td>None</td>\n",
       "      <td>residential</td>\n",
       "      <td>None</td>\n",
       "      <td>None</td>\n",
       "      <td>None</td>\n",
       "      <td>None</td>\n",
       "      <td>3</td>\n",
       "      <td>None</td>\n",
       "      <td>LINESTRING (104.87480 11.55371, 104.87480 11.5...</td>\n",
       "    </tr>\n",
       "    <tr>\n",
       "      <th>140223</th>\n",
       "      <td>989204979</td>\n",
       "      <td>None</td>\n",
       "      <td>residential</td>\n",
       "      <td>None</td>\n",
       "      <td>None</td>\n",
       "      <td>None</td>\n",
       "      <td>None</td>\n",
       "      <td>3</td>\n",
       "      <td>None</td>\n",
       "      <td>LINESTRING (104.87355 11.55420, 104.87395 11.5...</td>\n",
       "    </tr>\n",
       "  </tbody>\n",
       "</table>\n",
       "</div>"
      ],
      "text/plain": [
       "           osm_id                           name       highway waterway  \\\n",
       "140219  988998049                      ផ្លូវ ២៧១  primary_link     None   \n",
       "140220  989197764  មហាវិថី សម្តេច មុនីរ៉េត (២១៧)       primary     None   \n",
       "140221  989203751                           None   residential     None   \n",
       "140222  989204501                           None   residential     None   \n",
       "140223  989204979                           None   residential     None   \n",
       "\n",
       "       aerialway barrier man_made  z_order  \\\n",
       "140219      None    None     None        7   \n",
       "140220      None    None     None        7   \n",
       "140221      None    None     None        3   \n",
       "140222      None    None     None        3   \n",
       "140223      None    None     None        3   \n",
       "\n",
       "                                               other_tags  \\\n",
       "140219            \"name:en\"=>\"Street 271\",\"oneway\"=>\"yes\"   \n",
       "140220  \"name:en\"=>\"Monireth Boulevard (Street 217)\",\"...   \n",
       "140221                                               None   \n",
       "140222                                               None   \n",
       "140223                                               None   \n",
       "\n",
       "                                                 geometry  \n",
       "140219  LINESTRING (104.89847 11.54850, 104.89839 11.5...  \n",
       "140220  LINESTRING (104.89772 11.54738, 104.89797 11.5...  \n",
       "140221  LINESTRING (104.87737 11.55803, 104.87741 11.5...  \n",
       "140222  LINESTRING (104.87480 11.55371, 104.87480 11.5...  \n",
       "140223  LINESTRING (104.87355 11.55420, 104.87395 11.5...  "
      ]
     },
     "execution_count": 83,
     "metadata": {},
     "output_type": "execute_result"
    }
   ],
   "source": [
    "gdf.tail(n=5)"
   ]
  },
  {
   "cell_type": "markdown",
   "id": "99628968-c2d6-4b3d-9af6-b38e58871632",
   "metadata": {},
   "source": [
    "A GeoDataFrame contains a special column called geometry All spatial operations on the GeoDataFrame are applied to the geometry column. It can be accessed using the geometry attribute."
   ]
  },
  {
   "cell_type": "code",
   "execution_count": 84,
   "id": "1facc6fe-8043-403e-b985-e9e9d31ec72d",
   "metadata": {
    "tags": []
   },
   "outputs": [
    {
     "name": "stdout",
     "output_type": "stream",
     "text": [
      "0         LINESTRING (104.69655 10.52430, 104.69712 10.5...\n",
      "1         LINESTRING (103.85964 13.41249, 103.85965 13.4...\n",
      "2         LINESTRING (105.90598 14.04349, 105.91302 14.0...\n",
      "3         LINESTRING (104.94721 10.52847, 104.92283 10.5...\n",
      "4         LINESTRING (104.92874 10.50023, 104.92850 10.5...\n",
      "                                ...                        \n",
      "140219    LINESTRING (104.89847 11.54850, 104.89839 11.5...\n",
      "140220    LINESTRING (104.89772 11.54738, 104.89797 11.5...\n",
      "140221    LINESTRING (104.87737 11.55803, 104.87741 11.5...\n",
      "140222    LINESTRING (104.87480 11.55371, 104.87480 11.5...\n",
      "140223    LINESTRING (104.87355 11.55420, 104.87395 11.5...\n",
      "Name: geometry, Length: 140224, dtype: geometry\n"
     ]
    }
   ],
   "source": [
    "print(roads_gdf.geometry)"
   ]
  },
  {
   "cell_type": "code",
   "execution_count": 85,
   "id": "445f3279-4884-43c5-9061-1083c777c427",
   "metadata": {
    "tags": []
   },
   "outputs": [],
   "source": [
    "shape_gdf = roads_gdf.geometry"
   ]
  },
  {
   "cell_type": "markdown",
   "id": "a3547dd6-b2be-490d-8e87-cbeaeffdcf15",
   "metadata": {},
   "source": [
    "#### Set Projections\n",
    "\n",
    "Each GeoDataFrame as a crs attribute that contains the projection information. Our datasets are in EPSG:4326 WGS84 CRS"
   ]
  },
  {
   "cell_type": "code",
   "execution_count": 86,
   "id": "e27c549f-de94-4de3-abfe-28d25d24d9ea",
   "metadata": {
    "tags": []
   },
   "outputs": [
    {
     "name": "stdout",
     "output_type": "stream",
     "text": [
      "epsg:4326\n"
     ]
    }
   ],
   "source": [
    "print(shape_gdf.crs)"
   ]
  },
  {
   "cell_type": "code",
   "execution_count": 87,
   "id": "91dde89a-36ed-4905-9182-900ffc82f0e0",
   "metadata": {},
   "outputs": [
    {
     "name": "stdout",
     "output_type": "stream",
     "text": [
      "EPSG:32643\n"
     ]
    }
   ],
   "source": [
    "roads_reprojected = shape_gdf.to_crs('EPSG:32643')\n",
    "print(roads_reprojected.crs)"
   ]
  },
  {
   "cell_type": "markdown",
   "id": "da5f10c3-f3cd-4103-b1cd-48755d36f03e",
   "metadata": {},
   "source": [
    "We can calculate the length of each geometry using the length attribute and the result would be in meters.\n",
    "\n",
    "We can add the line length in a new column named length.\n",
    "\n"
   ]
  },
  {
   "cell_type": "code",
   "execution_count": 88,
   "id": "71321daa-60b2-4176-9d2e-36e41c38915e",
   "metadata": {
    "tags": []
   },
   "outputs": [],
   "source": [
    "roads_reprojected['length']=roads_reprojected.geometry.length\n"
   ]
  },
  {
   "cell_type": "markdown",
   "id": "9694da6a-23b8-462c-9a03-4b9264b86be1",
   "metadata": {},
   "source": [
    "Let's sum all roads length using sum() method and divide it by 1000"
   ]
  },
  {
   "cell_type": "code",
   "execution_count": 90,
   "id": "758f17c1-687d-46eb-97f3-f5f16adb4c79",
   "metadata": {
    "tags": []
   },
   "outputs": [],
   "source": [
    "total_length= roads_reprojected['length'].sum()"
   ]
  },
  {
   "cell_type": "code",
   "execution_count": 91,
   "id": "697dbbaf-90fb-4642-bd71-dd71eec924a3",
   "metadata": {
    "tags": []
   },
   "outputs": [
    {
     "name": "stdout",
     "output_type": "stream",
     "text": [
      "The total length of roads in cambodia is 118470.66363281052\n"
     ]
    }
   ],
   "source": [
    "print('The total length of roads in cambodia is {}'.format(total_length/1000))"
   ]
  },
  {
   "cell_type": "code",
   "execution_count": null,
   "id": "00acb33a-dd6e-436b-a28a-11cf2adeaf89",
   "metadata": {},
   "outputs": [],
   "source": []
  }
 ],
 "metadata": {
  "kernelspec": {
   "display_name": "Python 3 (ipykernel)",
   "language": "python",
   "name": "python3"
  },
  "language_info": {
   "codemirror_mode": {
    "name": "ipython",
    "version": 3
   },
   "file_extension": ".py",
   "mimetype": "text/x-python",
   "name": "python",
   "nbconvert_exporter": "python",
   "pygments_lexer": "ipython3",
   "version": "3.9.7"
  }
 },
 "nbformat": 4,
 "nbformat_minor": 5
}
