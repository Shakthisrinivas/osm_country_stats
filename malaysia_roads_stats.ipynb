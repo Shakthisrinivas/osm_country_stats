{
 "cells": [
  {
   "cell_type": "markdown",
   "id": "0097b7c8-b5d7-4719-bc46-90c78995fd51",
   "metadata": {
    "tags": []
   },
   "source": [
    "## Program to extract length of roads\n",
    "We can extract length of roads from Shapefile or GeoJSON by using Pandas and GeoPandas modules.\n",
    "You can download country specific OpenStreetMap data from GeoFabrik. The common data formats available are PBF and Shapefiles.\n",
    "\n",
    "\n",
    "By conventions, we import geopandas as gpd and pandas as pd\n"
   ]
  },
  {
   "cell_type": "code",
   "execution_count": 134,
   "id": "8d0c029a-dd61-4143-8c36-b077f288dad8",
   "metadata": {},
   "outputs": [],
   "source": [
    "import geopandas as gpd\n",
    "import pandas as pd\n",
    "import os"
   ]
  },
  {
   "cell_type": "markdown",
   "id": "5ba4cb16-ade7-4abc-a9aa-922c4a734699",
   "metadata": {},
   "source": [
    "#### Reading Spatial Data"
   ]
  },
  {
   "cell_type": "code",
   "execution_count": 135,
   "id": "7b0762e3-993e-4f14-bc53-f46549b7abf3",
   "metadata": {},
   "outputs": [],
   "source": [
    "data_directory = '/Users/shakthi/Downloads/malaysia'\n",
    "filename = 'malaysia_roads_stats.shp'\n",
    "path = os.path.join(data_directory,filename)"
   ]
  },
  {
   "cell_type": "markdown",
   "id": "df05dee9-6707-40b1-94cf-80d824f1957e",
   "metadata": {},
   "source": [
    "GeoPandas provide read_file() method that can read almost any vector-based spatial data format including ESRI shapefile, GeoJSON files.\n",
    "Here we will read osm_roads.shp . The results are stored in GeoDataFrames."
   ]
  },
  {
   "cell_type": "code",
   "execution_count": 136,
   "id": "b9fb417f-347d-4c4e-b863-780feb1801de",
   "metadata": {},
   "outputs": [],
   "source": [
    "roads_gdf = gpd.read_file(path)"
   ]
  },
  {
   "cell_type": "markdown",
   "id": "8317558c-2911-4352-b16f-a74720e431c3",
   "metadata": {},
   "source": [
    "\n",
    "Print GeoDataFrame information to check all columns"
   ]
  },
  {
   "cell_type": "code",
   "execution_count": 137,
   "id": "261cf64a-dd30-442f-bed1-db67d9faf8a2",
   "metadata": {},
   "outputs": [
    {
     "name": "stdout",
     "output_type": "stream",
     "text": [
      "<class 'geopandas.geodataframe.GeoDataFrame'>\n",
      "RangeIndex: 1717506 entries, 0 to 1717505\n",
      "Data columns (total 10 columns):\n",
      " #   Column      Dtype   \n",
      "---  ------      -----   \n",
      " 0   osm_id      object  \n",
      " 1   name        object  \n",
      " 2   highway     object  \n",
      " 3   waterway    object  \n",
      " 4   aerialway   object  \n",
      " 5   barrier     object  \n",
      " 6   man_made    object  \n",
      " 7   z_order     int64   \n",
      " 8   other_tags  object  \n",
      " 9   geometry    geometry\n",
      "dtypes: geometry(1), int64(1), object(8)\n",
      "memory usage: 131.0+ MB\n",
      "None\n"
     ]
    }
   ],
   "source": [
    "print(roads_gdf.info())"
   ]
  },
  {
   "cell_type": "markdown",
   "id": "1b0f938f-3e6f-4882-88c4-758d6ab87de4",
   "metadata": {},
   "source": [
    "Concatenate road network GeoDataFrames using Pandas & concat() method\n",
    "\n"
   ]
  },
  {
   "cell_type": "code",
   "execution_count": 138,
   "id": "a96dab17-0018-49cc-9521-4bcb27d75b9d",
   "metadata": {},
   "outputs": [],
   "source": [
    "gdf = gpd.GeoDataFrame(pd.concat([roads_gdf]))"
   ]
  },
  {
   "cell_type": "markdown",
   "id": "b91f7de9-73a9-4328-9ea6-34e44e694534",
   "metadata": {},
   "source": [
    "\n",
    "Print first 5 rows of concatenated GeoDataFrame"
   ]
  },
  {
   "cell_type": "code",
   "execution_count": 139,
   "id": "5e018734-17c5-4334-9fd4-ad6b14a5df76",
   "metadata": {},
   "outputs": [
    {
     "data": {
      "text/html": [
       "<div>\n",
       "<style scoped>\n",
       "    .dataframe tbody tr th:only-of-type {\n",
       "        vertical-align: middle;\n",
       "    }\n",
       "\n",
       "    .dataframe tbody tr th {\n",
       "        vertical-align: top;\n",
       "    }\n",
       "\n",
       "    .dataframe thead th {\n",
       "        text-align: right;\n",
       "    }\n",
       "</style>\n",
       "<table border=\"1\" class=\"dataframe\">\n",
       "  <thead>\n",
       "    <tr style=\"text-align: right;\">\n",
       "      <th></th>\n",
       "      <th>osm_id</th>\n",
       "      <th>name</th>\n",
       "      <th>highway</th>\n",
       "      <th>waterway</th>\n",
       "      <th>aerialway</th>\n",
       "      <th>barrier</th>\n",
       "      <th>man_made</th>\n",
       "      <th>z_order</th>\n",
       "      <th>other_tags</th>\n",
       "      <th>geometry</th>\n",
       "    </tr>\n",
       "  </thead>\n",
       "  <tbody>\n",
       "    <tr>\n",
       "      <th>0</th>\n",
       "      <td>4386520</td>\n",
       "      <td>Orchard Road</td>\n",
       "      <td>primary</td>\n",
       "      <td>None</td>\n",
       "      <td>None</td>\n",
       "      <td>None</td>\n",
       "      <td>None</td>\n",
       "      <td>7</td>\n",
       "      <td>\"lanes\"=&gt;\"5\",\"oneway\"=&gt;\"yes\",\"name:en\"=&gt;\"Orcha...</td>\n",
       "      <td>LINESTRING (103.83006 1.30602, 103.83011 1.30599)</td>\n",
       "    </tr>\n",
       "    <tr>\n",
       "      <th>1</th>\n",
       "      <td>4578273</td>\n",
       "      <td>Jalan Bukit Bintang</td>\n",
       "      <td>secondary</td>\n",
       "      <td>None</td>\n",
       "      <td>None</td>\n",
       "      <td>None</td>\n",
       "      <td>None</td>\n",
       "      <td>6</td>\n",
       "      <td>\"lanes\"=&gt;\"1\",\"oneway\"=&gt;\"yes\",\"surface\"=&gt;\"asphalt\"</td>\n",
       "      <td>LINESTRING (101.72265 3.14789, 101.72237 3.147...</td>\n",
       "    </tr>\n",
       "    <tr>\n",
       "      <th>2</th>\n",
       "      <td>4579495</td>\n",
       "      <td>Jalan Nagasari</td>\n",
       "      <td>residential</td>\n",
       "      <td>None</td>\n",
       "      <td>None</td>\n",
       "      <td>None</td>\n",
       "      <td>None</td>\n",
       "      <td>3</td>\n",
       "      <td>\"lanes\"=&gt;\"2\",\"oneway\"=&gt;\"no\",\"surface\"=&gt;\"asphalt\"</td>\n",
       "      <td>LINESTRING (101.70838 3.14739, 101.70848 3.147...</td>\n",
       "    </tr>\n",
       "    <tr>\n",
       "      <th>3</th>\n",
       "      <td>4579533</td>\n",
       "      <td>Persiaran Raja Chulan</td>\n",
       "      <td>residential</td>\n",
       "      <td>None</td>\n",
       "      <td>None</td>\n",
       "      <td>None</td>\n",
       "      <td>None</td>\n",
       "      <td>3</td>\n",
       "      <td>\"surface\"=&gt;\"asphalt\"</td>\n",
       "      <td>LINESTRING (101.70426 3.14687, 101.70466 3.147...</td>\n",
       "    </tr>\n",
       "    <tr>\n",
       "      <th>4</th>\n",
       "      <td>4579534</td>\n",
       "      <td>Jalan Ceylon</td>\n",
       "      <td>residential</td>\n",
       "      <td>None</td>\n",
       "      <td>None</td>\n",
       "      <td>None</td>\n",
       "      <td>None</td>\n",
       "      <td>3</td>\n",
       "      <td>\"oneway\"=&gt;\"no\",\"surface\"=&gt;\"asphalt\"</td>\n",
       "      <td>LINESTRING (101.70334 3.14764, 101.70354 3.14791)</td>\n",
       "    </tr>\n",
       "  </tbody>\n",
       "</table>\n",
       "</div>"
      ],
      "text/plain": [
       "    osm_id                   name      highway waterway aerialway barrier  \\\n",
       "0  4386520           Orchard Road      primary     None      None    None   \n",
       "1  4578273    Jalan Bukit Bintang    secondary     None      None    None   \n",
       "2  4579495         Jalan Nagasari  residential     None      None    None   \n",
       "3  4579533  Persiaran Raja Chulan  residential     None      None    None   \n",
       "4  4579534           Jalan Ceylon  residential     None      None    None   \n",
       "\n",
       "  man_made  z_order                                         other_tags  \\\n",
       "0     None        7  \"lanes\"=>\"5\",\"oneway\"=>\"yes\",\"name:en\"=>\"Orcha...   \n",
       "1     None        6  \"lanes\"=>\"1\",\"oneway\"=>\"yes\",\"surface\"=>\"asphalt\"   \n",
       "2     None        3   \"lanes\"=>\"2\",\"oneway\"=>\"no\",\"surface\"=>\"asphalt\"   \n",
       "3     None        3                               \"surface\"=>\"asphalt\"   \n",
       "4     None        3                \"oneway\"=>\"no\",\"surface\"=>\"asphalt\"   \n",
       "\n",
       "                                            geometry  \n",
       "0  LINESTRING (103.83006 1.30602, 103.83011 1.30599)  \n",
       "1  LINESTRING (101.72265 3.14789, 101.72237 3.147...  \n",
       "2  LINESTRING (101.70838 3.14739, 101.70848 3.147...  \n",
       "3  LINESTRING (101.70426 3.14687, 101.70466 3.147...  \n",
       "4  LINESTRING (101.70334 3.14764, 101.70354 3.14791)  "
      ]
     },
     "execution_count": 139,
     "metadata": {},
     "output_type": "execute_result"
    }
   ],
   "source": [
    "gdf.head(n=5)"
   ]
  },
  {
   "cell_type": "markdown",
   "id": "c02657a1-679b-49d5-8008-57519a971a79",
   "metadata": {},
   "source": [
    "\n",
    "Print last 5 rows of concatenated GeoDataFrame"
   ]
  },
  {
   "cell_type": "code",
   "execution_count": 140,
   "id": "0cfc96fc-7120-4d4e-9411-37c367bc0daf",
   "metadata": {},
   "outputs": [
    {
     "data": {
      "text/html": [
       "<div>\n",
       "<style scoped>\n",
       "    .dataframe tbody tr th:only-of-type {\n",
       "        vertical-align: middle;\n",
       "    }\n",
       "\n",
       "    .dataframe tbody tr th {\n",
       "        vertical-align: top;\n",
       "    }\n",
       "\n",
       "    .dataframe thead th {\n",
       "        text-align: right;\n",
       "    }\n",
       "</style>\n",
       "<table border=\"1\" class=\"dataframe\">\n",
       "  <thead>\n",
       "    <tr style=\"text-align: right;\">\n",
       "      <th></th>\n",
       "      <th>osm_id</th>\n",
       "      <th>name</th>\n",
       "      <th>highway</th>\n",
       "      <th>waterway</th>\n",
       "      <th>aerialway</th>\n",
       "      <th>barrier</th>\n",
       "      <th>man_made</th>\n",
       "      <th>z_order</th>\n",
       "      <th>other_tags</th>\n",
       "      <th>geometry</th>\n",
       "    </tr>\n",
       "  </thead>\n",
       "  <tbody>\n",
       "    <tr>\n",
       "      <th>1717501</th>\n",
       "      <td>992218790</td>\n",
       "      <td>None</td>\n",
       "      <td>service</td>\n",
       "      <td>None</td>\n",
       "      <td>None</td>\n",
       "      <td>None</td>\n",
       "      <td>None</td>\n",
       "      <td>0</td>\n",
       "      <td>None</td>\n",
       "      <td>LINESTRING (101.52678 3.01054, 101.52712 3.010...</td>\n",
       "    </tr>\n",
       "    <tr>\n",
       "      <th>1717502</th>\n",
       "      <td>992218874</td>\n",
       "      <td>None</td>\n",
       "      <td>residential</td>\n",
       "      <td>None</td>\n",
       "      <td>None</td>\n",
       "      <td>None</td>\n",
       "      <td>None</td>\n",
       "      <td>3</td>\n",
       "      <td>\"access\"=&gt;\"private\"</td>\n",
       "      <td>LINESTRING (103.73051 1.54306, 103.73093 1.542...</td>\n",
       "    </tr>\n",
       "    <tr>\n",
       "      <th>1717503</th>\n",
       "      <td>992221775</td>\n",
       "      <td>Jalan Jaya Putra 2/26</td>\n",
       "      <td>residential</td>\n",
       "      <td>None</td>\n",
       "      <td>None</td>\n",
       "      <td>None</td>\n",
       "      <td>None</td>\n",
       "      <td>3</td>\n",
       "      <td>None</td>\n",
       "      <td>LINESTRING (103.77775 1.56705, 103.77785 1.567...</td>\n",
       "    </tr>\n",
       "    <tr>\n",
       "      <th>1717504</th>\n",
       "      <td>992223619</td>\n",
       "      <td>None</td>\n",
       "      <td>residential</td>\n",
       "      <td>None</td>\n",
       "      <td>None</td>\n",
       "      <td>None</td>\n",
       "      <td>None</td>\n",
       "      <td>3</td>\n",
       "      <td>None</td>\n",
       "      <td>LINESTRING (101.58921 2.99495, 101.58918 2.99471)</td>\n",
       "    </tr>\n",
       "    <tr>\n",
       "      <th>1717505</th>\n",
       "      <td>992226360</td>\n",
       "      <td>None</td>\n",
       "      <td>service</td>\n",
       "      <td>None</td>\n",
       "      <td>None</td>\n",
       "      <td>None</td>\n",
       "      <td>None</td>\n",
       "      <td>0</td>\n",
       "      <td>None</td>\n",
       "      <td>LINESTRING (101.56476 2.98788, 101.56476 2.98805)</td>\n",
       "    </tr>\n",
       "  </tbody>\n",
       "</table>\n",
       "</div>"
      ],
      "text/plain": [
       "            osm_id                   name      highway waterway aerialway  \\\n",
       "1717501  992218790                   None      service     None      None   \n",
       "1717502  992218874                   None  residential     None      None   \n",
       "1717503  992221775  Jalan Jaya Putra 2/26  residential     None      None   \n",
       "1717504  992223619                   None  residential     None      None   \n",
       "1717505  992226360                   None      service     None      None   \n",
       "\n",
       "        barrier man_made  z_order           other_tags  \\\n",
       "1717501    None     None        0                 None   \n",
       "1717502    None     None        3  \"access\"=>\"private\"   \n",
       "1717503    None     None        3                 None   \n",
       "1717504    None     None        3                 None   \n",
       "1717505    None     None        0                 None   \n",
       "\n",
       "                                                  geometry  \n",
       "1717501  LINESTRING (101.52678 3.01054, 101.52712 3.010...  \n",
       "1717502  LINESTRING (103.73051 1.54306, 103.73093 1.542...  \n",
       "1717503  LINESTRING (103.77775 1.56705, 103.77785 1.567...  \n",
       "1717504  LINESTRING (101.58921 2.99495, 101.58918 2.99471)  \n",
       "1717505  LINESTRING (101.56476 2.98788, 101.56476 2.98805)  "
      ]
     },
     "execution_count": 140,
     "metadata": {},
     "output_type": "execute_result"
    }
   ],
   "source": [
    "gdf.tail(n=5)"
   ]
  },
  {
   "cell_type": "markdown",
   "id": "a4f7afe2-ed96-4271-8f3d-a24047729d2d",
   "metadata": {},
   "source": [
    "A GeoDataFrame contains a special column called geometry\n",
    "All spatial operations on the GeoDataFrame are applied to the geometry column. It can be accessed using the geometry attribute.\n"
   ]
  },
  {
   "cell_type": "code",
   "execution_count": 141,
   "id": "1fa84ed4-906c-4a95-b801-ebb83ae53535",
   "metadata": {},
   "outputs": [
    {
     "name": "stdout",
     "output_type": "stream",
     "text": [
      "0          LINESTRING (103.83006 1.30602, 103.83011 1.30599)\n",
      "1          LINESTRING (101.72265 3.14789, 101.72237 3.147...\n",
      "2          LINESTRING (101.70838 3.14739, 101.70848 3.147...\n",
      "3          LINESTRING (101.70426 3.14687, 101.70466 3.147...\n",
      "4          LINESTRING (101.70334 3.14764, 101.70354 3.14791)\n",
      "                                 ...                        \n",
      "1717501    LINESTRING (101.52678 3.01054, 101.52712 3.010...\n",
      "1717502    LINESTRING (103.73051 1.54306, 103.73093 1.542...\n",
      "1717503    LINESTRING (103.77775 1.56705, 103.77785 1.567...\n",
      "1717504    LINESTRING (101.58921 2.99495, 101.58918 2.99471)\n",
      "1717505    LINESTRING (101.56476 2.98788, 101.56476 2.98805)\n",
      "Name: geometry, Length: 1717506, dtype: geometry\n"
     ]
    }
   ],
   "source": [
    "print(roads_gdf.geometry)"
   ]
  },
  {
   "cell_type": "code",
   "execution_count": 142,
   "id": "d4b601ba-21e5-474c-a735-0f2a0d70fe14",
   "metadata": {},
   "outputs": [],
   "source": [
    "shape_gdf = roads_gdf.geometry"
   ]
  },
  {
   "cell_type": "markdown",
   "id": "0f1f1793-66b6-444a-b610-279b40e4e8cb",
   "metadata": {},
   "source": [
    "#### Set Projections\n",
    "\n",
    "Each GeoDataFrame as a crs attribute that contains the projection information. Our datasets are in EPSG:4326 WGS84 CRS"
   ]
  },
  {
   "cell_type": "code",
   "execution_count": 143,
   "id": "3dc75748-3e61-4368-8c9c-7f8df8a6ec27",
   "metadata": {
    "tags": []
   },
   "outputs": [
    {
     "name": "stdout",
     "output_type": "stream",
     "text": [
      "epsg:4326\n"
     ]
    }
   ],
   "source": [
    "print(shape_gdf.crs)"
   ]
  },
  {
   "cell_type": "code",
   "execution_count": 144,
   "id": "3e896f5d-f644-4bfa-8604-7638ce5ce3c6",
   "metadata": {},
   "outputs": [],
   "source": [
    "roads_reprojected = shape_gdf.to_crs('EPSG:32643')"
   ]
  },
  {
   "cell_type": "code",
   "execution_count": 145,
   "id": "9d017952-65ef-4dae-8bb3-b3c968af97e7",
   "metadata": {},
   "outputs": [
    {
     "name": "stdout",
     "output_type": "stream",
     "text": [
      "EPSG:32643\n"
     ]
    }
   ],
   "source": [
    "print(roads_reprojected.crs)"
   ]
  },
  {
   "cell_type": "markdown",
   "id": "e3d54d27-cb1e-4d55-b8de-82bfd4b22d5d",
   "metadata": {},
   "source": [
    "We can calculate the length of each geometry using the length attribute and the result would be in meters.\n",
    "\n",
    "We can add the line length in a new column named length."
   ]
  },
  {
   "cell_type": "code",
   "execution_count": 146,
   "id": "64600a7d-274a-43ba-b13d-38e38fd10d07",
   "metadata": {},
   "outputs": [],
   "source": [
    "roads_reprojected['length'] = roads_reprojected.geometry.length"
   ]
  },
  {
   "cell_type": "markdown",
   "id": "61b63ca8-ef22-47fd-9e67-9946bf2ce14a",
   "metadata": {},
   "source": [
    "\n",
    "Let's sum all roads length using sum() method and divide it by 1000"
   ]
  },
  {
   "cell_type": "code",
   "execution_count": 148,
   "id": "8258dd18-db95-4fb6-aa81-10c34217cede",
   "metadata": {},
   "outputs": [],
   "source": [
    "total_length = roads_reprojected['length'].sum()"
   ]
  },
  {
   "cell_type": "code",
   "execution_count": 149,
   "id": "6fcf9642-7ec2-487b-b8ac-f5a24aadc7a9",
   "metadata": {},
   "outputs": [
    {
     "name": "stdout",
     "output_type": "stream",
     "text": [
      "The total length of roads in malaysia is 698088.7231365049\n"
     ]
    }
   ],
   "source": [
    "print('The total length of roads in malaysia is {}'.format(total_length/1000)) "
   ]
  },
  {
   "cell_type": "code",
   "execution_count": null,
   "id": "62479dde-40fd-4957-b235-45b59d34ac47",
   "metadata": {},
   "outputs": [],
   "source": []
  }
 ],
 "metadata": {
  "kernelspec": {
   "display_name": "Python 3 (ipykernel)",
   "language": "python",
   "name": "python3"
  },
  "language_info": {
   "codemirror_mode": {
    "name": "ipython",
    "version": 3
   },
   "file_extension": ".py",
   "mimetype": "text/x-python",
   "name": "python",
   "nbconvert_exporter": "python",
   "pygments_lexer": "ipython3",
   "version": "3.9.7"
  },
  "toc-showtags": true
 },
 "nbformat": 4,
 "nbformat_minor": 5
}
